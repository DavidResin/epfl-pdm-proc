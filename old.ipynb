{
 "cells": [
  {
   "cell_type": "code",
   "execution_count": null,
   "metadata": {},
   "outputs": [],
   "source": [
    "import os, json\n",
    "from matplotlib import pyplot as plt\n",
    "import pandas as pd"
   ]
  },
  {
   "cell_type": "code",
   "execution_count": null,
   "metadata": {},
   "outputs": [],
   "source": [
    "with open(os.path.join(p0, p1, p2), \"r\") as f:\n",
    "    x = json.load(f)"
   ]
  },
  {
   "cell_type": "code",
   "execution_count": null,
   "metadata": {},
   "outputs": [],
   "source": [
    "data = dict()\n",
    "ids = []\n",
    "dfs = []\n",
    "\n",
    "for u in unique_data:\n",
    "    data = dict()\n",
    "    for p in paths:\n",
    "        with open(p, \"r\") as f:\n",
    "            j = json.load(f)\n",
    "            try:\n",
    "                t0 = j[\"1\"][\"time\"]\n",
    "                keys = [k for k in j.keys() if str.isnumeric(k)]\n",
    "                if keys == u:\n",
    "                    d = {k : j[k][\"time\"] - t0 for k in keys}\n",
    "                    data[p.split(\"\\\\\")[-1].split(\"-\")[0]] = d\n",
    "                    ids.append(keys)\n",
    "            except:\n",
    "                pass\n",
    "    dfs.append(pd.DataFrame(data))\n",
    "            \n",
    "        \n"
   ]
  },
  {
   "cell_type": "code",
   "execution_count": null,
   "metadata": {},
   "outputs": [],
   "source": [
    "idx = 3\n",
    "ax = dfs[idx].mean(axis=1).plot(figsize=(16, 9), color='purple', linewidth=10)\n",
    "dfs[idx].plot(legend=False, ax=ax)"
   ]
  },
  {
   "cell_type": "code",
   "execution_count": null,
   "metadata": {},
   "outputs": [],
   "source": [
    "mean = dfs[idx].mean(axis=1)\n",
    "std = dfs[idx].std(axis=1)\n",
    "plt.errorbar(dfs[idx].index, mean, std, marker='^')"
   ]
  },
  {
   "cell_type": "code",
   "execution_count": null,
   "metadata": {},
   "outputs": [],
   "source": [
    "l = ['1',  '2',  '3',  '5',  '6',  '7',  '8',  '9',  '10',  '11',  '12',  '13',  '14',  '15',  '17']\n",
    "l in unique_data"
   ]
  },
  {
   "cell_type": "code",
   "execution_count": null,
   "metadata": {},
   "outputs": [],
   "source": [
    "ids_n = [set(i) for i in ids]\n",
    "ids_u = []\n",
    "\n",
    "unique_data = [list(x) for x in set(tuple(x) for x in ids)]\n",
    "unique_data = [u for u in unique_data if len(u) > 5]\n",
    "\n",
    "unique_data"
   ]
  },
  {
   "cell_type": "code",
   "execution_count": null,
   "metadata": {},
   "outputs": [],
   "source": [
    "df.plot(legend=False)"
   ]
  },
  {
   "cell_type": "code",
   "execution_count": null,
   "metadata": {},
   "outputs": [],
   "source": [
    "p0 = \"real\"\n",
    "paths = []\n",
    "\n",
    "for p1 in os.listdir(p0):\n",
    "    for p2 in os.listdir(os.path.join(p0, p1)):\n",
    "        if p2.endswith(\"json\"):\n",
    "            paths.append(os.path.join(p0, p1, p2))"
   ]
  },
  {
   "cell_type": "code",
   "execution_count": null,
   "metadata": {},
   "outputs": [],
   "source": [
    "len(paths)"
   ]
  }
 ],
 "metadata": {
  "kernelspec": {
   "display_name": "pdm-env",
   "language": "python",
   "name": "pdm-env"
  },
  "language_info": {
   "codemirror_mode": {
    "name": "ipython",
    "version": 3
   },
   "file_extension": ".py",
   "mimetype": "text/x-python",
   "name": "python",
   "nbconvert_exporter": "python",
   "pygments_lexer": "ipython3",
   "version": "3.9.5"
  }
 },
 "nbformat": 4,
 "nbformat_minor": 4
}

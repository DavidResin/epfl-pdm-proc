{
 "cells": [
  {
   "cell_type": "code",
   "execution_count": null,
   "id": "cedd2fe3-1fa7-4518-8cd0-e4290a2f1876",
   "metadata": {},
   "outputs": [],
   "source": [
    "import pickle as pkl\n",
    "import numpy as np\n",
    "from matplotlib import pyplot as plt"
   ]
  },
  {
   "cell_type": "code",
   "execution_count": null,
   "id": "ac2dcd3f-103d-40aa-bbac-6122f6366bcf",
   "metadata": {},
   "outputs": [],
   "source": [
    "# Import clean data\n",
    "with open(\"data/post_test.pkl\", \"rb\") as f:\n",
    "    df = pkl.load(f)"
   ]
  },
  {
   "cell_type": "code",
   "execution_count": null,
   "id": "30d267a5-fd6c-4c65-b619-99642d8d24db",
   "metadata": {},
   "outputs": [],
   "source": [
    "genders = [1, 2, 3, 4]"
   ]
  },
  {
   "cell_type": "code",
   "execution_count": null,
   "id": "0c0d314d-f9b1-45fa-822e-4a590395bf04",
   "metadata": {},
   "outputs": [],
   "source": [
    "years = [\"1st\", \"2nd\", \"3rd\"]\n",
    "\n",
    "def hexplot(df, coly, colx=(0, \"year\"), datax=years, bins=50):    \n",
    "    fig, ax = plt.subplots(figsize=(16, 9))\n",
    "    cmap = plt.rcParams['axes.prop_cycle'].by_key()[\"color\"]\n",
    "    \n",
    "    col = df[coly]\n",
    "    col = col[~col.isna()]\n",
    "    _, g_bins = np.histogram(col, bins=bins)\n",
    "\n",
    "    for i, y in enumerate(datax):\n",
    "        sub = df[df[colx] == y][coly]\n",
    "        sub = sub[~sub.isna()]\n",
    "        sizes, bins = np.histogram(sub, bins=g_bins)\n",
    "\n",
    "        cnts = {x: 0 for x in bins}\n",
    "\n",
    "        for s in sub:\n",
    "            low_bins = [b for b in bins[:-1] if b <= s]\n",
    "            last = low_bins[-1]\n",
    "            total = sizes[len(low_bins)-1]\n",
    "            odd = (len(low_bins) + total) % 2\n",
    "\n",
    "            plt.plot(i + cnts[last] / 40 + odd / 80 - total / 80, last, \"o\", c=cmap[i])\n",
    "            cnts[last] += 1\n",
    "            \n",
    "    #ax.set_xticklabels([1, 2, 3, 4], [\"Male\", \"Female\", \"Other\", \"No Answer\"])\n",
    "    return plt.xlim()"
   ]
  },
  {
   "cell_type": "code",
   "execution_count": null,
   "id": "0b44e077-8876-4a9a-8f96-ee114b307a01",
   "metadata": {},
   "outputs": [],
   "source": [
    "df_a = df[[c for c in df.columns if c[1] == \"rel\"]].applymap(lambda x: (1 if x == 0 else 0) if x is not None else None)"
   ]
  },
  {
   "cell_type": "code",
   "execution_count": null,
   "id": "5dce687b-8d63-4c7b-8982-3971a3dc5547",
   "metadata": {},
   "outputs": [],
   "source": [
    "df_b = df[[c for c in df.columns if c[1] == \"score\" and c[0] < 13]] / 100"
   ]
  },
  {
   "cell_type": "code",
   "execution_count": null,
   "id": "b45c0a03-b3c3-442c-9e8b-d38bff6683b4",
   "metadata": {},
   "outputs": [],
   "source": [
    "import pandas as pd\n",
    "df_ab = pd.concat([df_a, df_b], axis=1).sum(axis=1)\n",
    "gscore = pd.concat([df[0][\"gender\"], df_ab], axis=1)\n",
    "gscore"
   ]
  },
  {
   "cell_type": "code",
   "execution_count": null,
   "id": "b2460d45-e0ab-4afb-a825-27195020364c",
   "metadata": {},
   "outputs": [],
   "source": [
    "hexplot(gscore, 0, colx=\"gender\", datax=genders)\n",
    "\n",
    "plt.xticks(range(4), [\"Male\", \"Female\", \"Other\", \"No answer\"], rotation=0)\n",
    "\n",
    "plt.xlabel(\"Gender\")\n",
    "plt.ylabel(\"Score of questions 2-7\")\n",
    "plt.savefig(\"plots/score_by_gender.png\")"
   ]
  },
  {
   "cell_type": "code",
   "execution_count": null,
   "id": "60751e44-1c95-4507-beb6-e9a262eaa8ad",
   "metadata": {},
   "outputs": [],
   "source": [
    "df_u = df_a.sum(axis=1)\n",
    "df_v = df[[(13, 'r_concentration'), (13, 'r_width')]].sum(axis=1)\n",
    "df_uv = pd.concat([df_u, df_v], axis=1).loc[:228]\n",
    "df_uv\n",
    "fig, ax = plt.subplots(figsize=(16, 9))\n",
    "plt.hist2d(x=df_uv[0], y=df_uv[1])\n",
    "plt.xlabel(\"Score for questions 2-5\")\n",
    "plt.ylabel(\"Understanding of proportionality\")\n",
    "plt.savefig(\"plots/q25_understanding.png\")"
   ]
  },
  {
   "cell_type": "code",
   "execution_count": null,
   "id": "40c4d713-82c6-49b5-a460-23c34c4303bc",
   "metadata": {},
   "outputs": [],
   "source": [
    "df[19][[\"s_difficult\", \"s_entertain\"]].hist()"
   ]
  },
  {
   "cell_type": "code",
   "execution_count": null,
   "id": "f96caaed-60f9-4190-8f08-c86082b31220",
   "metadata": {},
   "outputs": [],
   "source": [
    "df_u = df_b.sum(axis=1)\n",
    "df_v = df[[(13, 'r_wavelength')]].sum(axis=1)\n",
    "df_uv = pd.concat([df_u, df_v], axis=1).loc[:228]\n",
    "df_uv\n",
    "fig, ax = plt.subplots(figsize=(16, 9))\n",
    "plt.hist2d(x=df_uv[0], y=df_uv[1])\n",
    "plt.xlabel(\"Score for questions 6-7\")\n",
    "plt.ylabel(\"Understanding of color complementarity\")\n",
    "plt.savefig(\"plots/q67_understanding.png\")"
   ]
  },
  {
   "cell_type": "code",
   "execution_count": null,
   "id": "3601910b-33a4-4411-a9db-7a7bd4cb2432",
   "metadata": {},
   "outputs": [],
   "source": [
    "df_v[df_v > 0]"
   ]
  },
  {
   "cell_type": "code",
   "execution_count": null,
   "id": "f85de04b-7181-4c67-8afe-9c4c4b1f0104",
   "metadata": {},
   "outputs": [],
   "source": [
    "[c for c in df.columns if type(c[1]) == str and c[1][:2] == \"r_\"]"
   ]
  },
  {
   "cell_type": "code",
   "execution_count": null,
   "id": "b7e30418-8a3a-4554-a84f-f53b88af4f23",
   "metadata": {},
   "outputs": [],
   "source": [
    "\n",
    "hexplot(df, (\"conf\", \"avg\"), colx=(0, \"year\"), datax=years, bins=50)\n",
    "\n",
    "plt.xticks(range(3), years, rotation=0)\n",
    "\n",
    "plt.xlabel(\"Study Year\")\n",
    "plt.ylabel(\"Average confidence\")\n",
    "plt.savefig(\"plots/conf_by_year.png\")"
   ]
  },
  {
   "cell_type": "code",
   "execution_count": null,
   "id": "d962b820-3ea8-4e3e-a755-0507c6008f5d",
   "metadata": {},
   "outputs": [],
   "source": [
    "\n",
    "hexplot(df, (\"conf\", \"avg\"), colx=(0, \"gender\"), datax=genders, bins=50)\n",
    "\n",
    "plt.xticks(range(4), [\"Male\", \"Female\", \"Other\", \"No answer\"], rotation=0)\n",
    "\n",
    "plt.xlabel(\"Study Year\")\n",
    "plt.ylabel(\"Average confidence\")\n",
    "plt.savefig(\"plots/conf_by_gender.png\")"
   ]
  },
  {
   "cell_type": "code",
   "execution_count": null,
   "id": "9b1ce4a4-2915-4af9-996e-d3e9d0dd5513",
   "metadata": {},
   "outputs": [],
   "source": [
    "import pandas as pd\n",
    "years = [\"1st\", \"2nd\", \"3rd\"]\n",
    "df_ab = pd.concat([df_a, df_b], axis=1).sum(axis=1)\n",
    "yscore = pd.concat([df[0][\"year\"], df_ab], axis=1)\n",
    "hexplot(yscore, 0, colx=\"year\", datax=years, bins=50)\n",
    "\n",
    "plt.xticks(range(3), years, rotation=0)\n",
    "\n",
    "plt.xlabel(\"Study Year\")\n",
    "plt.ylabel(\"Score of questions 2-7\")\n",
    "plt.savefig(\"plots/score_by_year.png\")"
   ]
  },
  {
   "cell_type": "code",
   "execution_count": null,
   "id": "f7ce4326-0b7e-41ad-aa27-73daa4e00a2c",
   "metadata": {},
   "outputs": [],
   "source": [
    "hexplot(df, (8, \"rel\"), colx=(0, \"gender\"), datax=genders)"
   ]
  },
  {
   "cell_type": "code",
   "execution_count": null,
   "id": "25feafbf-07f5-4174-8964-d980acb30a80",
   "metadata": {},
   "outputs": [],
   "source": []
  },
  {
   "cell_type": "code",
   "execution_count": null,
   "id": "0d341fd4-a596-46f3-b399-ac163a4f52f0",
   "metadata": {},
   "outputs": [],
   "source": [
    "lims = hexplot(df, (\"time\", \"total\"))"
   ]
  },
  {
   "cell_type": "code",
   "execution_count": null,
   "id": "76edd5e0-2ede-4d09-bbdd-eadc3b8b2dee",
   "metadata": {},
   "outputs": [],
   "source": [
    "hexplot(df, (19, \"s_entertain\"), colx=(0, \"gender\"), datax=genders, bins=20)\n",
    "\n",
    "plt.xticks(range(4), [\"Male\", \"Female\", \"Other\", \"No answer\"], rotation=0)\n",
    "\n",
    "plt.xlabel(\"Gender\")\n",
    "plt.ylabel(\"How entertaining was it?\")\n",
    "plt.savefig(\"plots/entertain_by_gender.png\")"
   ]
  },
  {
   "cell_type": "code",
   "execution_count": null,
   "id": "c39db75e-20ce-4533-935f-da067507543a",
   "metadata": {},
   "outputs": [],
   "source": [
    "hexplot(df, (19, \"s_entertain\"), colx=(0, \"year\"), datax=years, bins=20)\n",
    "\n",
    "plt.xticks(range(3), years, rotation=0)\n",
    "\n",
    "plt.xlabel(\"Study Year\")\n",
    "plt.ylabel(\"How entertaining was it?\")\n",
    "plt.savefig(\"plots/entertain_by_year.png\")"
   ]
  },
  {
   "cell_type": "code",
   "execution_count": null,
   "id": "8de7494f-b0db-4e32-b49e-ead01406e665",
   "metadata": {},
   "outputs": [],
   "source": [
    "hexplot(df, (19, \"s_difficult\"), colx=(0, \"gender\"), datax=genders, bins=20)\n",
    "\n",
    "plt.xticks(range(4), [\"Male\", \"Female\", \"Other\", \"No answer\"], rotation=0)\n",
    "\n",
    "plt.xlabel(\"Gender\")\n",
    "plt.ylabel(\"How hard was it?\")\n",
    "plt.savefig(\"plots/diff_by_gender.png\")"
   ]
  },
  {
   "cell_type": "code",
   "execution_count": null,
   "id": "1e8a427b-0904-4557-aecf-7383c4c1a19e",
   "metadata": {},
   "outputs": [],
   "source": [
    "hexplot(df, (19, \"s_difficult\"), colx=(0, \"year\"), datax=years, bins=20)\n",
    "\n",
    "plt.xticks(range(3), years, rotation=0)\n",
    "\n",
    "plt.xlabel(\"Study Year\")\n",
    "plt.ylabel(\"How hard was it?\")\n",
    "plt.savefig(\"plots/diff_by_year.png\")"
   ]
  },
  {
   "cell_type": "code",
   "execution_count": null,
   "id": "129ff856-082d-464d-a6d2-213588034d76",
   "metadata": {},
   "outputs": [],
   "source": [
    "df[19][\"s_entertain\"]"
   ]
  },
  {
   "cell_type": "code",
   "execution_count": null,
   "id": "5d1dd32a-2404-49c6-9812-c3a9e2422a4f",
   "metadata": {},
   "outputs": [],
   "source": [
    "hexplot(df, (19, \"s_entertain\"), 10)"
   ]
  },
  {
   "cell_type": "code",
   "execution_count": null,
   "id": "5d6a9510-6ea7-4af9-ac71-a8ece1e10d3b",
   "metadata": {},
   "outputs": [],
   "source": [
    "hexplot(df, (11, \"score\"))"
   ]
  },
  {
   "cell_type": "code",
   "execution_count": null,
   "id": "1698ba66-7c40-4da4-a1eb-9975270139f6",
   "metadata": {},
   "outputs": [],
   "source": [
    "hexplot(df, (12, \"score\"))"
   ]
  },
  {
   "cell_type": "code",
   "execution_count": null,
   "id": "5edc2ab5-bb10-4448-8dc8-d28b08fabab4",
   "metadata": {},
   "outputs": [],
   "source": [
    "hexplot(df, (11, \"score\"), colx=(0, \"gender\"), datax=genders)"
   ]
  },
  {
   "cell_type": "code",
   "execution_count": null,
   "id": "b8f5bc61-26df-4516-bff5-97769cff8fd9",
   "metadata": {},
   "outputs": [],
   "source": [
    "hexplot(df, (12, \"score\"), colx=(0, \"gender\"), datax=genders)"
   ]
  },
  {
   "cell_type": "code",
   "execution_count": null,
   "id": "7e11d1f2-9ba9-46d6-8b25-5365a2dea27d",
   "metadata": {},
   "outputs": [],
   "source": [
    "df.columns"
   ]
  },
  {
   "cell_type": "code",
   "execution_count": null,
   "id": "3ce2d18d-05bd-46d5-8abc-85d7dbeef0a6",
   "metadata": {},
   "outputs": [],
   "source": [
    "df[7][\"rel\"]"
   ]
  },
  {
   "cell_type": "code",
   "execution_count": null,
   "id": "700dbe5e-bc6d-45e4-acda-c312bf84e910",
   "metadata": {},
   "outputs": [],
   "source": [
    "(df[\"conf\"] == 0).sum(axis=0)"
   ]
  }
 ],
 "metadata": {
  "kernelspec": {
   "display_name": "pdm-env",
   "language": "python",
   "name": "pdm-env"
  },
  "language_info": {
   "codemirror_mode": {
    "name": "ipython",
    "version": 3
   },
   "file_extension": ".py",
   "mimetype": "text/x-python",
   "name": "python",
   "nbconvert_exporter": "python",
   "pygments_lexer": "ipython3",
   "version": "3.9.5"
  }
 },
 "nbformat": 4,
 "nbformat_minor": 5
}
